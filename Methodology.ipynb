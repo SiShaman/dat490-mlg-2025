{
 "cells": [
  {
   "cell_type": "markdown",
   "id": "f6a0070c-76b4-4154-baec-fa702f80b22a",
   "metadata": {},
   "source": [
    "1. Load the dataset.\n",
    "2. Emit shape, head and statistics to get a sense of what's there.\n",
    "3. If the dataset uses explicit values to indicate missing data, translate those to NaN.\n",
    "4. Create base train/test split.\n",
    "5. Perform initial feature prep, such as recasting as categorical, disaggregating, ....\n",
    "6. Consider the actual missing values. What proportion of values are missing per feature? If only a handful, maybe drop those records. But if there are features that are missing from a large proportion of observations they're candidates for dropping. Need to consider how predictive the value is when present.\n",
    "7. Prune any observations that seem immediately problematic.\n",
    "8. Check class imbalance.\n",
    "9. Derive alternative training sets from the base using minority oversampling, majority undersampling, SMOTE, SUNDO, Onan's, Lee/Seo's, and Anis/Ali. This gives us 8 training sets.\n",
    "10. Train (at least) kNN, Random Forest, Logistic Regressor, ANN, and one-class SVM.\n",
    "11. Check training performance via confusion matrix, F-Score, ROC, ....\n",
    "12. Run the test set through the various models after performing appropriate transformation based on what was done to the training set(s).\n",
    "13. Check test performance as was done with training."
   ]
  },
  {
   "cell_type": "markdown",
   "id": "11ddd7ad-7aa7-4c28-bab0-05330210fb3e",
   "metadata": {},
   "source": [
    "A key part of our task here is to properly implement the novel samplers. We'll presumably want to look at the stats for the resampled training sets and in the case of the novel samplers attempt to confirm comparable behavior/performance to the authors' claims."
   ]
  },
  {
   "cell_type": "code",
   "execution_count": null,
   "id": "c6fb6b57-9245-4eb3-a01c-2a550975f838",
   "metadata": {},
   "outputs": [],
   "source": []
  }
 ],
 "metadata": {
  "kernelspec": {
   "display_name": "Python 3 (ipykernel)",
   "language": "python",
   "name": "python3"
  },
  "language_info": {
   "codemirror_mode": {
    "name": "ipython",
    "version": 3
   },
   "file_extension": ".py",
   "mimetype": "text/x-python",
   "name": "python",
   "nbconvert_exporter": "python",
   "pygments_lexer": "ipython3",
   "version": "3.12.9"
  }
 },
 "nbformat": 4,
 "nbformat_minor": 5
}
