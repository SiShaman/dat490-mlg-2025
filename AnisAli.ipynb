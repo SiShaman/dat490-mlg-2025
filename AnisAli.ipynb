{
 "cells": [
  {
   "cell_type": "code",
   "execution_count": 1,
   "id": "2c05a504-61be-44b7-a992-93645b222446",
   "metadata": {},
   "outputs": [],
   "source": [
    "import numpy as np\n",
    "from sklearn.neighbors import NearestNeighbors"
   ]
  },
  {
   "cell_type": "code",
   "execution_count": 2,
   "id": "f4c871ef-ee09-41c7-b764-9ae89ac203e2",
   "metadata": {},
   "outputs": [],
   "source": [
    "def denoise(X, y, n_neighbors = 3):\n",
    "    \"\"\"\n",
    "    Given a set of predictors and targets, determines which class is the minority and then looks for members\n",
    "    of the minority class for which the closest neighbors are all in the majority. Those elements will be\n",
    "    pruned from the set.\n",
    "    \"\"\"\n",
    "    # Identify the classes and how many of each exist.\n",
    "    classes, class_counts = np.unique(y, return_counts = True)\n",
    "    print(f\"Classes: {classes}\")\n",
    "\n",
    "    # Determine which class has the lowest representation in the dataset.\n",
    "    minority_index = np.argmin(class_counts)\n",
    "    minority_class = classes[minority_index]\n",
    "    print(f\"Minority Class: {minority_class}\")\n",
    "    print(f\"Minority Ratio: {class_counts[minority_index] / y.size}\")\n",
    "\n",
    "    # Build a model representing the nearest neighbors and set up a list to cache the points that are noise.\n",
    "    knn = NearestNeighbors(n_neighbors = n_neighbors + 1).fit(X)\n",
    "    noise = []\n",
    "    \n",
    "    # Identify which data points represent the minority.\n",
    "    minority_indices = np.where(y == minority_class)\n",
    "\n",
    "    # Get the indices of the closest neighbors for each minority sample and then loop over the collection.\n",
    "    ind = knn.kneighbors(X[minority_indices], return_distance = False)\n",
    "    for test_index in np.arange(len(ind)):\n",
    "        # Ignore the closest neighbor because that's the point itself.\n",
    "        neighbor_indices = ind[test_index][1:]\n",
    "\n",
    "        # Check for all of the others to _not_ be in the minority class and add to the noise list if that's the case.\n",
    "        if np.all([y[i] != minority_class for i in neighbor_indices]):\n",
    "            noise.append(test_index)\n",
    "\n",
    "    print(f\"Noisy samples: {np.array(noise)}\")\n",
    "    return np.delete(X, noise, axis = 0), np.delete(y, noise, axis = 0)"
   ]
  },
  {
   "cell_type": "code",
   "execution_count": 3,
   "id": "9cb32e15-b39b-4f5d-b5b2-ddf297865018",
   "metadata": {},
   "outputs": [],
   "source": [
    "def get_category_indices(X, y, n_neighbors = 3):\n",
    "    \"\"\"\n",
    "    Determine and return the sets of indices representing the minority, the boundary majority, and the remaining majority.\n",
    "    \"\"\"\n",
    "    # Identify the classes and how many of each exist.\n",
    "    classes, class_counts = np.unique(y, return_counts = True)\n",
    "    print(f\"Classes: {classes}\")\n",
    "\n",
    "    # Determine which class has the lowest representation in the dataset.\n",
    "    minority_index = np.argmin(class_counts)\n",
    "    minority_class = classes[minority_index]\n",
    "    print(f\"Minority Class: {minority_class}\")\n",
    "    print(f\"Minority Ratio: {class_counts[minority_index] / y.size}\")\n",
    "\n",
    "    # Build a model representing the nearest neighbors and set up a list to cache the points that are noise.\n",
    "    knn = NearestNeighbors(n_neighbors = n_neighbors + 1).fit(X)\n",
    "\n",
    "    # Get the minority indices ... that's the easy one.\n",
    "    minority_indices = np.where(y == minority_class)\n",
    "    \n",
    "    bmaj = []\n",
    "    obmaj = []\n",
    "    majority_indices = np.where(y != minority_class)\n",
    "\n",
    "    # Get the indices of the closest neighbors for each majority sample and then loop over the collection.\n",
    "    ind = knn.kneighbors(X, return_distance = False)\n",
    "    print(ind)\n",
    "    for test_index in majority_indices[0]:\n",
    "        # Ignore the closest neighbor because that's the point itself.\n",
    "        neighbor_indices = ind[test_index][1:]\n",
    "        if np.any([y[i] == minority_class for i in neighbor_indices]):\n",
    "            bmaj.append(test_index)\n",
    "        else:\n",
    "            obmaj.append(test_index)\n",
    "\n",
    "    return minority_indices[0], np.array(bmaj), np.array(obmaj)"
   ]
  },
  {
   "cell_type": "code",
   "execution_count": 4,
   "id": "c8e80a8c-9240-44c0-b9a9-2806ad4ac7cf",
   "metadata": {},
   "outputs": [],
   "source": [
    "def sort_majority_samples(X):\n",
    "    \"\"\"\n",
    "    Given a set of samples, return a list of indices into that collection sorted by descending distance to closest neighbor.\n",
    "    \"\"\"\n",
    "    p = len(X[0])\n",
    "    n = len(X)\n",
    "    mat = np.zeros((n, n))\n",
    "    for row in np.arange(n):\n",
    "        for col in np.arange(n):\n",
    "            if col == row:\n",
    "                continue\n",
    "            sum = np.zeros((p, p))\n",
    "            for i in np.arange(n):\n",
    "                q = X[i] - X[col]\n",
    "                sum += np.outer(q, q)\n",
    "            S_j = (1.0 / (n - 1)) * sum\n",
    "            x = X[row] - X[col]\n",
    "            mat[row, col] = (1.0 / p) * np.abs(np.dot(np.dot(x, np.linalg.inv(S_j)), x))\n",
    "\n",
    "    # Now the distance between observations i and j is the minimum of mat[i,j] and mat[j,i]\n",
    "    # For each entry we want to find the distance to its closest neighbor.\n",
    "    pairs = []\n",
    "    for obs in np.arange(n):\n",
    "        row_vals = np.delete(mat[obs, :], obs)\n",
    "        col_vals = np.delete(mat[:, obs], obs)\n",
    "        pairs.append([obs, np.min(np.append(row_vals, col_vals))])\n",
    "    nearest = np.array(pairs)\n",
    "    sorted_indices = nearest[:, 1].argsort()[::-1]\n",
    "    return sorted_indices"
   ]
  },
  {
   "cell_type": "code",
   "execution_count": 5,
   "id": "4c3c6cf9-6a2d-4f9e-a9a5-70e21b386a2c",
   "metadata": {},
   "outputs": [],
   "source": [
    "from sklearn.datasets import make_classification\n",
    "X, y = make_classification(n_classes=2, class_sep=2, weights=[0.9, 0.1], n_informative=3, n_redundant=1,\n",
    "                           flip_y=0, n_features=20, n_clusters_per_class=1, n_samples=100, random_state=10)\n",
    "min_val = np.min(X)\n",
    "if min_val < 0:\n",
    "    X += abs(min_val)"
   ]
  },
  {
   "cell_type": "code",
   "execution_count": 6,
   "id": "434726f5-84a9-4c04-a306-bd8d8f97e3f7",
   "metadata": {},
   "outputs": [
    {
     "name": "stdout",
     "output_type": "stream",
     "text": [
      "Classes: [0 1]\n",
      "Minority Class: 1\n",
      "Minority Ratio: 0.1\n",
      "Noisy samples: [2]\n"
     ]
    }
   ],
   "source": [
    "X_new, y_new = denoise(X, y)"
   ]
  },
  {
   "cell_type": "code",
   "execution_count": 7,
   "id": "7821fcf8-0023-4a4f-b55d-cd6343d35f6d",
   "metadata": {},
   "outputs": [
    {
     "name": "stdout",
     "output_type": "stream",
     "text": [
      "Classes: [0 1]\n",
      "Minority Class: 1\n",
      "Minority Ratio: 0.10101010101010101\n",
      "[[ 0 58  9 71]\n",
      " [ 1 15 30 44]\n",
      " [ 2 77 30 29]\n",
      " [ 3 13 73 15]\n",
      " [ 4 32 83 45]\n",
      " [ 5 21 62 11]\n",
      " [ 6 59 97 76]\n",
      " [ 7 15 62 88]\n",
      " [ 8 62 92 63]\n",
      " [ 9  0 38 33]\n",
      " [10 24 53 93]\n",
      " [11  5 58 93]\n",
      " [12 44 97  2]\n",
      " [13  3 73 39]\n",
      " [14 62 24 79]\n",
      " [15  3  7  1]\n",
      " [16 63 26 50]\n",
      " [17 97 80 38]\n",
      " [18 90 52 74]\n",
      " [19 60 50 32]\n",
      " [20 10 82 77]\n",
      " [21  5 46 90]\n",
      " [22 72 35 77]\n",
      " [23 44 29 84]\n",
      " [24 63 10 47]\n",
      " [25 97 61 37]\n",
      " [26 59 97 44]\n",
      " [27 45 52 62]\n",
      " [28 76 62 68]\n",
      " [29 23 68 44]\n",
      " [30  2 77 49]\n",
      " [31 44 84 26]\n",
      " [32  4 48 19]\n",
      " [33 61 38 40]\n",
      " [34 30 53 37]\n",
      " [35 96 38 55]\n",
      " [36 28 21  6]\n",
      " [37 61 92 11]\n",
      " [38 40 50 33]\n",
      " [39 13  3 73]\n",
      " [40 38 33 31]\n",
      " [41 65 10 18]\n",
      " [42 90 93 86]\n",
      " [43 46 81 28]\n",
      " [44 23 29 31]\n",
      " [45 61 58 56]\n",
      " [46 43 60 21]\n",
      " [47 77 24 48]\n",
      " [48 77 53 46]\n",
      " [49 68 96 21]\n",
      " [50 38 26 53]\n",
      " [51 31 84 53]\n",
      " [52 74 18 27]\n",
      " [53 50 48 61]\n",
      " [54  4 72 83]\n",
      " [55 35 49 67]\n",
      " [56 45 61 79]\n",
      " [57 83 61  6]\n",
      " [58  0 87 45]\n",
      " [59 26 50 97]\n",
      " [60 19 46 48]\n",
      " [61 83 33 92]\n",
      " [62 68 26 83]\n",
      " [63 24 33 16]\n",
      " [64 74 29 96]\n",
      " [65 30 56 44]\n",
      " [66 73  3 68]\n",
      " [67 77  2 55]\n",
      " [68 62 29 49]\n",
      " [69  3 73 15]\n",
      " [70 13  7  3]\n",
      " [71 84 31  0]\n",
      " [72 28 62 11]\n",
      " [73  3 13 68]\n",
      " [74 52 64 18]\n",
      " [75 80 30 37]\n",
      " [76 97 28 29]\n",
      " [77 48 92  2]\n",
      " [78 77 74 27]\n",
      " [79 98 56 45]\n",
      " [80 90 31 53]\n",
      " [81 46 43 77]\n",
      " [82 23 20 77]\n",
      " [83 61 62  4]\n",
      " [84 90 86 23]\n",
      " [85 62 48 38]\n",
      " [86 84 53 61]\n",
      " [87 58 84  0]\n",
      " [88 72 14  7]\n",
      " [89 80 53 93]\n",
      " [90 84 80 18]\n",
      " [91 53 31 59]\n",
      " [92 77 61 37]\n",
      " [93 11 58 10]\n",
      " [94 51 53 90]\n",
      " [95 23 29 15]\n",
      " [96 35 49 68]\n",
      " [97 76 26 59]\n",
      " [98 79 53 56]]\n",
      "Minority: [ 3  7  8 13 15 39 66 69 70 73]\n",
      "Boundary: [ 1 88 95]\n",
      "Majority: [ 0  2  4  5  6  9 10 11 12 14 16 17 18 19 20 21 22 23 24 25 26 27 28 29\n",
      " 30 31 32 33 34 35 36 37 38 40 41 42 43 44 45 46 47 48 49 50 51 52 53 54\n",
      " 55 56 57 58 59 60 61 62 63 64 65 67 68 71 72 74 75 76 77 78 79 80 81 82\n",
      " 83 84 85 86 87 89 90 91 92 93 94 96 97 98]\n",
      "Resampling completed in 1.44s.\n",
      "20\n",
      "[[5.27613616 4.69903979 5.25064979 4.44443764 4.80141202 4.08664077\n",
      "  6.39733293 5.45274039 3.46957154 6.63792819 4.63709185 4.80735966\n",
      "  4.22904    3.22986944 5.31326774 4.63159882 4.19576324 7.20693164\n",
      "  3.36069237 3.43058346]\n",
      " [5.20246832 2.4735707  3.23364364 3.12269894 4.15981345 4.55199551\n",
      "  5.9379377  3.05269765 3.11191149 6.9573562  3.49570853 5.12784295\n",
      "  5.13786391 4.33412154 4.14198972 3.9069939  5.59297464 6.63042809\n",
      "  4.46013127 3.81534493]\n",
      " [2.42237236 4.7585646  4.10638662 4.30747543 3.88072661 4.32848553\n",
      "  6.4391136  4.9482475  0.         5.47151514 5.37273017 2.95593654\n",
      "  4.13941455 5.69918875 5.71725241 2.30012593 4.83396398 4.97194537\n",
      "  2.19640873 3.0015398 ]\n",
      " [6.24778587 5.66018122 5.92402925 3.48703425 5.36246424 3.55687426\n",
      "  6.33122112 5.69882439 3.26596559 6.37127015 4.60191159 4.21021267\n",
      "  3.86474478 3.23710377 3.63617274 3.34120209 2.78822086 6.9042521\n",
      "  4.88243045 4.27510315]\n",
      " [3.86960517 3.89198219 4.08229462 3.95379581 3.91281539 3.8704193\n",
      "  6.1316446  3.51926386 2.4161399  6.80744303 4.6193778  6.34334465\n",
      "  3.11874258 3.79520551 5.10452066 5.4707102  4.29489365 6.43931015\n",
      "  3.54058829 5.02613723]\n",
      " [3.19536254 6.02732445 6.93939896 5.45680178 4.97754135 3.8200419\n",
      "  6.25336402 5.34308646 2.7404941  6.89536415 3.16804495 5.4310666\n",
      "  4.77201991 2.86944342 4.17438599 2.35586732 4.06017874 6.78681955\n",
      "  5.73510817 3.71957903]\n",
      " [4.00040238 4.74042028 6.3429125  3.84918778 5.89173274 5.95498879\n",
      "  6.21768508 4.51092925 4.40242006 7.04168748 4.34639916 4.108272\n",
      "  3.86579653 4.56518061 2.87566694 4.81525248 6.36006878 7.65034504\n",
      "  4.11321361 4.709331  ]\n",
      " [6.3011064  3.78691546 4.02400522 5.98889854 4.92245305 6.13684937\n",
      "  6.22850446 4.73502163 4.35587256 6.92493554 5.32657948 5.98253359\n",
      "  4.0630521  4.99100407 5.12140867 4.1587428  5.08068264 7.58623959\n",
      "  5.1409345  6.2551314 ]\n",
      " [5.61229464 3.95515475 3.08777763 2.31543104 2.68238596 3.12719534\n",
      "  6.24136998 6.59641029 4.51646539 7.00543413 4.57738042 3.31357275\n",
      "  4.78389184 4.12594745 4.3566356  3.3801113  4.59586526 7.71927105\n",
      "  6.05148    4.39828262]\n",
      " [4.40918227 5.20767745 5.12765592 5.07835389 5.71558493 4.30188618\n",
      "  6.16313385 4.89223849 3.80212563 6.97518479 4.71963999 3.66911117\n",
      "  4.53357775 5.72111037 3.93093599 3.17737812 3.41987578 7.25262294\n",
      "  3.62186292 3.98495681]\n",
      " [4.81798686 4.36663142 4.86827498 3.84044506 4.75813014 5.71934896\n",
      "  7.53070129 4.30459055 4.22929991 1.42512978 4.10745712 5.13462408\n",
      "  4.5949433  2.78754419 3.980485   4.38175537 4.26043598 6.54427461\n",
      "  5.98810577 3.01408319]\n",
      " [4.69884153 4.33358604 4.55393633 3.94480837 4.09515217 1.81059885\n",
      "  6.82970107 4.88205269 3.50323083 3.04442113 4.83042002 3.47871373\n",
      "  3.36577322 4.83785865 3.4117321  4.5374909  3.51224362 6.09108456\n",
      "  3.79343425 4.83014487]\n",
      " [3.60437318 5.03938155 2.6457434  5.12863407 4.51449997 4.98242867\n",
      "  6.04427559 5.30164567 3.52204074 4.02594952 2.54637641 3.73942334\n",
      "  4.63918406 4.30487411 6.59270783 4.32372929 4.57887017 5.62260426\n",
      "  6.25703484 3.11661888]\n",
      " [3.094337   5.66587101 4.04569317 4.4295393  5.01232452 4.34679311\n",
      "  6.90279384 2.85113245 3.03557652 3.36171466 6.09189618 5.29502207\n",
      "  5.29256743 4.93142099 4.78989594 3.44087331 2.85212446 6.08638776\n",
      "  6.22476152 4.24612724]\n",
      " [7.00878291 4.24805255 3.85797631 1.87672927 4.30969779 5.7586193\n",
      "  6.27373446 6.17708551 3.32333519 3.88979913 3.90999719 3.73334113\n",
      "  4.96340876 4.11928404 5.19497874 4.48444776 5.03226914 5.73081727\n",
      "  4.33977794 4.4952749 ]\n",
      " [4.34141949 4.80787401 5.00562042 5.81934146 2.96062808 5.8274775\n",
      "  7.04873741 5.38729876 3.95528357 2.29654463 4.94574555 3.26231593\n",
      "  5.25477081 3.74924025 4.48728425 4.18589214 3.42185852 6.23572916\n",
      "  5.7852801  2.94230203]\n",
      " [5.10679318 4.70499878 6.0563355  4.09515373 4.23785699 3.34503445\n",
      "  8.73080803 4.17454536 2.07612816 1.53709937 5.41892166 4.61841099\n",
      "  3.98248419 3.52474795 4.47098716 4.11638395 3.5015023  6.92485897\n",
      "  2.18383624 3.39488667]\n",
      " [4.26884677 5.3714061  3.53345811 4.10914356 4.64230816 3.2953768\n",
      "  7.88779686 5.25388686 2.39236594 2.40035175 5.95101384 5.40561605\n",
      "  4.30277554 3.860537   4.22190614 2.54703733 4.62015219 6.48445768\n",
      "  5.7636265  3.52473315]\n",
      " [6.51973595 3.56291504 4.71916488 3.29856982 2.67057574 3.73674324\n",
      "  7.25310516 5.91517335 2.67689351 3.12023937 3.95395902 4.1304903\n",
      "  3.2434479  3.05894748 3.75998753 5.97046988 5.24322717 6.20830552\n",
      "  1.91567673 3.93584832]\n",
      " [4.56125735 4.59782117 3.0046945  4.24368387 4.07798182 4.72064826\n",
      "  7.39953349 2.54670232 1.16593072 4.14029508 3.50652233 5.16473507\n",
      "  6.96540259 3.60911935 3.71626325 3.57466735 3.99411423 6.08492421\n",
      "  4.47875757 3.26599122]]\n"
     ]
    }
   ],
   "source": [
    "import time\n",
    "start_time = time.time()\n",
    "\n",
    "minority_indices, boundary_indices, majority_indices = get_category_indices(X_new, y_new)\n",
    "print(f\"Minority: {minority_indices}\")\n",
    "print(f\"Boundary: {boundary_indices}\")\n",
    "print(f\"Majority: {majority_indices}\")\n",
    "X_minority = X_new[minority_indices]\n",
    "y_minority = y_new[minority_indices]\n",
    "\n",
    "X_majority = X_new[majority_indices]\n",
    "y_majority = y_new[majority_indices]\n",
    "sorted_majority = sort_majority_samples(X_majority)\n",
    "\n",
    "X_resampled = np.append(X_minority, X_majority[:len(X_minority)], axis=0)\n",
    "y_resampled = np.append(y_minority, y_majority[:len(y_minority)], axis=0)\n",
    "\n",
    "end_time = time.time()\n",
    "print(f\"Resampling completed in {(end_time - start_time):.2f}s.\")\n",
    "\n",
    "print(len(X_resampled))\n",
    "print(X_resampled)\n",
    "\n"
   ]
  },
  {
   "cell_type": "markdown",
   "id": "b9fa286c-b70d-43d8-9fb4-0ae1e0bdb110",
   "metadata": {},
   "source": [
    "# Okay, now for real..."
   ]
  },
  {
   "cell_type": "code",
   "execution_count": 8,
   "id": "ead2997c-427d-4b9a-898a-1f40fa63844b",
   "metadata": {},
   "outputs": [
    {
     "name": "stdout",
     "output_type": "stream",
     "text": [
      "Classes: [0 1]\n",
      "Minority Class: 1\n",
      "Minority Ratio: 0.105\n",
      "Noisy samples: []\n",
      "Classes: [0 1]\n",
      "Minority Class: 1\n",
      "Minority Ratio: 0.105\n",
      "[[  0 414 143 771]\n",
      " [  1 313 138 525]\n",
      " [  2 760 276 700]\n",
      " ...\n",
      " [797   7 231 672]\n",
      " [798 329 654 342]\n",
      " [799 161 775 539]]\n",
      "F-score: 1.0\n"
     ]
    },
    {
     "data": {
      "text/plain": [
       "<Figure size 1000x800 with 0 Axes>"
      ]
     },
     "metadata": {},
     "output_type": "display_data"
    },
    {
     "data": {
      "image/png": "[encoded data removed]",
      "text/plain": [
       "<Figure size 640x480 with 2 Axes>"
      ]
     },
     "metadata": {},
     "output_type": "display_data"
    },
    {
     "data": {
      "text/plain": [
       "<Figure size 1000x800 with 0 Axes>"
      ]
     },
     "metadata": {},
     "output_type": "display_data"
    },
    {
     "data": {
      "image/png": "[encoded data removed]",
      "text/plain": [
       "<Figure size 640x480 with 1 Axes>"
      ]
     },
     "metadata": {},
     "output_type": "display_data"
    }
   ],
   "source": [
    "import matplotlib.pyplot as plt\n",
    "from sklearn.ensemble import RandomForestClassifier\n",
    "from sklearn.metrics import fbeta_score\n",
    "from sklearn.metrics import ConfusionMatrixDisplay, RocCurveDisplay\n",
    "from sklearn.model_selection import train_test_split\n",
    "from sklearn.preprocessing import MinMaxScaler\n",
    "\n",
    "X, y = make_classification(n_classes=2, class_sep=2, weights=[0.9, 0.1], n_informative=3, n_redundant=1,\n",
    "                           flip_y=0, n_features=20, n_clusters_per_class=1, n_samples=1000, random_state=42)\n",
    "X_train, X_test, y_train, y_test = train_test_split(X, y, test_size = 0.20, random_state = 42)\n",
    "model = RandomForestClassifier()\n",
    "scaler = MinMaxScaler()\n",
    "\n",
    "scaler.fit_transform(X_train)\n",
    "\n",
    "X_new, y_new = denoise(X_train, y_train)\n",
    "minority_indices, boundary_indices, majority_indices = get_category_indices(X_new, y_new)\n",
    "\n",
    "X_minority = X_new[minority_indices]\n",
    "y_minority = y_new[minority_indices]\n",
    "\n",
    "X_majority = X_new[majority_indices]\n",
    "y_majority = y_new[majority_indices]\n",
    "sorted_majority = sort_majority_samples(X_majority)\n",
    "\n",
    "X_resampled = np.append(X_minority, X_majority[:2 * len(X_minority)], axis=0)\n",
    "y_resampled = np.append(y_minority, y_majority[:2 * len(y_minority)], axis=0)\n",
    "\n",
    "model.fit(X_resampled, y_resampled)\n",
    "y_train_pred = model.predict(X_resampled)\n",
    "\n",
    "print(f\"F-score: {fbeta_score(y_resampled, y_train_pred, beta = 2)}\")\n",
    "\n",
    "plt.figure(figsize=(10, 8))\n",
    "ConfusionMatrixDisplay.from_predictions(y_resampled, y_train_pred)\n",
    "plt.show()\n",
    "plt.figure(figsize=(10, 8))\n",
    "RocCurveDisplay.from_estimator(model, X_resampled, y_resampled)\n",
    "plt.show()"
   ]
  },
  {
   "cell_type": "code",
   "execution_count": 9,
   "id": "592794be-8c7a-40ff-88bd-e56cdda42919",
   "metadata": {},
   "outputs": [
    {
     "name": "stdout",
     "output_type": "stream",
     "text": [
      "[ 11  42  46  57  75  81  91 115 118 145 147 151 153 161 164 166 168 182\n",
      " 193 221 225 229 241 249 250 251 258 261 268 269 279 281 282 286 288 300\n",
      " 309 318 326 330 336 346 347 361 368 374 384 405 417 444 445 454 482 484\n",
      " 493 531 534 539 543 573 577 591 596 598 611 614 638 641 657 662 667 674\n",
      " 680 685 694 735 749 751 755 774 775 788 793 799] [ 90 223 297] [  0   1   2   3   4   5   6   7   8   9  10  12  13  14  15  16  17  18\n",
      "  19  20  21  22  23  24  25  26  27  28  29  30  31  32  33  34  35  36\n",
      "  37  38  39  40  41  43  44  45  47  48  49  50  51  52  53  54  55  56\n",
      "  58  59  60  61  62  63  64  65  66  67  68  69  70  71  72  73  74  76\n",
      "  77  78  79  80  82  83  84  85  86  87  88  89  92  93  94  95  96  97\n",
      "  98  99 100 101 102 103 104 105 106 107 108 109 110 111 112 113 114 116\n",
      " 117 119 120 121 122 123 124 125 126 127 128 129 130 131 132 133 134 135\n",
      " 136 137 138 139 140 141 142 143 144 146 148 149 150 152 154 155 156 157\n",
      " 158 159 160 162 163 165 167 169 170 171 172 173 174 175 176 177 178 179\n",
      " 180 181 183 184 185 186 187 188 189 190 191 192 194 195 196 197 198 199\n",
      " 200 201 202 203 204 205 206 207 208 209 210 211 212 213 214 215 216 217\n",
      " 218 219 220 222 224 226 227 228 230 231 232 233 234 235 236 237 238 239\n",
      " 240 242 243 244 245 246 247 248 252 253 254 255 256 257 259 260 262 263\n",
      " 264 265 266 267 270 271 272 273 274 275 276 277 278 280 283 284 285 287\n",
      " 289 290 291 292 293 294 295 296 298 299 301 302 303 304 305 306 307 308\n",
      " 310 311 312 313 314 315 316 317 319 320 321 322 323 324 325 327 328 329\n",
      " 331 332 333 334 335 337 338 339 340 341 342 343 344 345 348 349 350 351\n",
      " 352 353 354 355 356 357 358 359 360 362 363 364 365 366 367 369 370 371\n",
      " 372 373 375 376 377 378 379 380 381 382 383 385 386 387 388 389 390 391\n",
      " 392 393 394 395 396 397 398 399 400 401 402 403 404 406 407 408 409 410\n",
      " 411 412 413 414 415 416 418 419 420 421 422 423 424 425 426 427 428 429\n",
      " 430 431 432 433 434 435 436 437 438 439 440 441 442 443 446 447 448 449\n",
      " 450 451 452 453 455 456 457 458 459 460 461 462 463 464 465 466 467 468\n",
      " 469 470 471 472 473 474 475 476 477 478 479 480 481 483 485 486 487 488\n",
      " 489 490 491 492 494 495 496 497 498 499 500 501 502 503 504 505 506 507\n",
      " 508 509 510 511 512 513 514 515 516 517 518 519 520 521 522 523 524 525\n",
      " 526 527 528 529 530 532 533 535 536 537 538 540 541 542 544 545 546 547\n",
      " 548 549 550 551 552 553 554 555 556 557 558 559 560 561 562 563 564 565\n",
      " 566 567 568 569 570 571 572 574 575 576 578 579 580 581 582 583 584 585\n",
      " 586 587 588 589 590 592 593 594 595 597 599 600 601 602 603 604 605 606\n",
      " 607 608 609 610 612 613 615 616 617 618 619 620 621 622 623 624 625 626\n",
      " 627 628 629 630 631 632 633 634 635 636 637 639 640 642 643 644 645 646\n",
      " 647 648 649 650 651 652 653 654 655 656 658 659 660 661 663 664 665 666\n",
      " 668 669 670 671 672 673 675 676 677 678 679 681 682 683 684 686 687 688\n",
      " 689 690 691 692 693 695 696 697 698 699 700 701 702 703 704 705 706 707\n",
      " 708 709 710 711 712 713 714 715 716 717 718 719 720 721 722 723 724 725\n",
      " 726 727 728 729 730 731 732 733 734 736 737 738 739 740 741 742 743 744\n",
      " 745 746 747 748 750 752 753 754 756 757 758 759 760 761 762 763 764 765\n",
      " 766 767 768 769 770 771 772 773 776 777 778 779 780 781 782 783 784 785\n",
      " 786 787 789 790 791 792 794 795 796 797 798]\n"
     ]
    }
   ],
   "source": [
    "print(minority_indices, boundary_indices, majority_indices)"
   ]
  },
  {
   "cell_type": "code",
   "execution_count": 10,
   "id": "e2fcfbfd-14d7-42e4-a6af-f06c00373a24",
   "metadata": {},
   "outputs": [
    {
     "name": "stdout",
     "output_type": "stream",
     "text": [
      "F-score: 0.36036036036036034\n"
     ]
    },
    {
     "data": {
      "text/plain": [
       "<Figure size 1000x800 with 0 Axes>"
      ]
     },
     "metadata": {},
     "output_type": "display_data"
    },
    {
     "data": {
      "image/png": "[encoded data removed]",
      "text/plain": [
       "<Figure size 640x480 with 2 Axes>"
      ]
     },
     "metadata": {},
     "output_type": "display_data"
    },
    {
     "data": {
      "text/plain": [
       "<Figure size 1000x800 with 0 Axes>"
      ]
     },
     "metadata": {},
     "output_type": "display_data"
    },
    {
     "data": {
      "image/png": "[encoded data removed]",
      "text/plain": [
       "<Figure size 640x480 with 1 Axes>"
      ]
     },
     "metadata": {},
     "output_type": "display_data"
    }
   ],
   "source": [
    "y_test_pred = model.predict(scaler.transform(X_test))\n",
    "\n",
    "print(f\"F-score: {fbeta_score(y_test, y_test_pred, beta = 2)}\")\n",
    "\n",
    "plt.figure(figsize=(10, 8))\n",
    "ConfusionMatrixDisplay.from_predictions(y_test, y_test_pred)\n",
    "plt.show()\n",
    "plt.figure(figsize=(10, 8))\n",
    "RocCurveDisplay.from_estimator(model, scaler.transform(X_test), y_test)\n",
    "plt.show()"
   ]
  },
  {
   "cell_type": "code",
   "execution_count": 11,
   "id": "8547746e-2cd7-47e8-99d7-43bfbf6c12bf",
   "metadata": {},
   "outputs": [
    {
     "data": {
      "text/plain": [
       "<Figure size 1000x800 with 0 Axes>"
      ]
     },
     "metadata": {},
     "output_type": "display_data"
    },
    {
     "data": {
      "image/png": "[encoded data removed]",
      "text/plain": [
       "<Figure size 640x480 with 1 Axes>"
      ]
     },
     "metadata": {},
     "output_type": "display_data"
    }
   ],
   "source": [
    "from sklearn.metrics import PrecisionRecallDisplay\n",
    "plt.figure(figsize=(10, 8))\n",
    "PrecisionRecallDisplay.from_estimator(model, scaler.transform(X_test), y_test)\n",
    "plt.show()"
   ]
  },
  {
   "cell_type": "code",
   "execution_count": null,
   "id": "9cea62d6-06ef-438f-89e6-06a3dcf2136f",
   "metadata": {},
   "outputs": [],
   "source": []
  }
 ],
 "metadata": {
  "kernelspec": {
   "display_name": "Python 3 (ipykernel)",
   "language": "python",
   "name": "python3"
  },
  "language_info": {
   "codemirror_mode": {
    "name": "ipython",
    "version": 3
   },
   "file_extension": ".py",
   "mimetype": "text/x-python",
   "name": "python",
   "nbconvert_exporter": "python",
   "pygments_lexer": "ipython3",
   "version": "3.12.9"
  }
 },
 "nbformat": 4,
 "nbformat_minor": 5
}
